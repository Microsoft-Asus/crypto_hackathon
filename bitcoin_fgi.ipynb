{
 "cells": [
  {
   "cell_type": "markdown",
   "metadata": {},
   "source": [
    "## Bitcoin Fear & Greed Index\n",
    "***\n",
    "\n",
    "### Introduction\n",
    "***\n",
    "This is an attempt to create a sentiment index for Bitcoin. This sentiment index can be used for the purpose of trading into bitcoins and also as an indicator of overall mood. I have broadly divided the components of this index in two categories as follows.\n",
    "\n",
    "**Market Sentiment**\n",
    " - Momentum\n",
    " - Price / MA\n",
    " - Implied Volatility (VIX)\n",
    " - Simulated Price (using Geometric Brownian Motion)\n",
    " \n",
    "**Social Sentiment**\n",
    " - Google search trend\n",
    " - News articles\n",
    " - Reddit posts\n",
    "\n",
    "### Methodology\n",
    "***\n",
    "\n",
    "Data points that are used for creating this index are from 1 May 2018 to 31 May 2018. This project is only for PoC purpose. The limitation of the dataset is majorly due to non availability of historical social sentiment data with free api's. The methodology used to compute various factors is stated below. The construction methodology used to combine all the indicators is from Market Mood Index by Smallcase (http://mmi.smallcase.com/)\n",
    "\n",
    "- **Momentum**: Momentum is calculated as\n",
    "$$momentum = \\frac{90dEMA - 30dEMA}{90dEMA}$$\n",
    "\n",
    "\n",
    "- **Implied Volatility**: Volatility Index is calculated using forecasted volatility using GARCH(1,1) model. Forecast for next 24 periods of volatility is made and calculated as $$\\left ( \\frac{VIX_t}{100} \\right )^2 = \\frac{1}{n}\\sum_{k=1}^{n}E_{t}^{Q}\\left [ \\tilde{h}_{t+\\frac{\\tau_0 k}{n}} \\right ]$$\n",
    "\n",
    "  Refrence: Hao, J., & Zhang, J. E. (2013). GARCH option pricing models, the CBOE VIX, and variance risk premium. Journal of Financial Econometrics, 11(3), 556-580.\n",
    "\n",
    "\n",
    "- **Price / 125d MA**\n",
    "\n",
    "\n",
    "- **Google Search Trend**: Interest over time from google trends for the keyword 'bitcoin'\n",
    "\n",
    "\n",
    "- **News**: Sentiment analysis using vaderSentiment api of news articles with 'bitcoin' keyword in their title\n",
    "\n",
    "\n",
    "- **Reddit**: Top posts titles in subreddit r/bitcoin are captured and sentiment analysis using vaderSentiment is performed\n"
   ]
  },
  {
   "cell_type": "code",
   "execution_count": 1,
   "metadata": {},
   "outputs": [],
   "source": [
    "import numpy as np\n",
    "import pandas as pd\n",
    "import glob\n",
    "import json\n",
    "import datetime \n",
    "import matplotlib.pyplot as plt\n",
    "%matplotlib inline\n",
    "plt.style.use('fivethirtyeight')\n",
    "from vaderSentiment.vaderSentiment import SentimentIntensityAnalyzer\n",
    "from arch import arch_model\n",
    "\n",
    "import warnings\n",
    "warnings.filterwarnings(\"ignore\")"
   ]
  },
  {
   "cell_type": "markdown",
   "metadata": {},
   "source": [
    "## Data cleaning and resampling\n",
    "\n",
    " - Original bitcoin price data is of 30min frequency, but needs to be resampled to 60min frequency as the social sentiment data is only available at 60min frequency\n",
    " - Series is extracted for a period more than required so as to factor in for moving averages"
   ]
  },
  {
   "cell_type": "code",
   "execution_count": 49,
   "metadata": {},
   "outputs": [
    {
     "data": {
      "text/html": [
       "<div>\n",
       "<style scoped>\n",
       "    .dataframe tbody tr th:only-of-type {\n",
       "        vertical-align: middle;\n",
       "    }\n",
       "\n",
       "    .dataframe tbody tr th {\n",
       "        vertical-align: top;\n",
       "    }\n",
       "\n",
       "    .dataframe thead th {\n",
       "        text-align: right;\n",
       "    }\n",
       "</style>\n",
       "<table border=\"1\" class=\"dataframe\">\n",
       "  <thead>\n",
       "    <tr style=\"text-align: right;\">\n",
       "      <th></th>\n",
       "      <th>Open</th>\n",
       "      <th>High</th>\n",
       "      <th>Low</th>\n",
       "      <th>Close</th>\n",
       "      <th>Volume (BTC)</th>\n",
       "      <th>Volume (Currency)</th>\n",
       "      <th>Weighted Price</th>\n",
       "    </tr>\n",
       "    <tr>\n",
       "      <th>Timestamp</th>\n",
       "      <th></th>\n",
       "      <th></th>\n",
       "      <th></th>\n",
       "      <th></th>\n",
       "      <th></th>\n",
       "      <th></th>\n",
       "      <th></th>\n",
       "    </tr>\n",
       "  </thead>\n",
       "  <tbody>\n",
       "    <tr>\n",
       "      <th>2012-12-31 00:00:00</th>\n",
       "      <td>13.2</td>\n",
       "      <td>13.2</td>\n",
       "      <td>13.20</td>\n",
       "      <td>13.20</td>\n",
       "      <td>0.23</td>\n",
       "      <td>3.04</td>\n",
       "      <td>13.20</td>\n",
       "    </tr>\n",
       "    <tr>\n",
       "      <th>2012-12-31 00:30:00</th>\n",
       "      <td>13.2</td>\n",
       "      <td>13.2</td>\n",
       "      <td>13.20</td>\n",
       "      <td>13.20</td>\n",
       "      <td>0.23</td>\n",
       "      <td>3.04</td>\n",
       "      <td>13.20</td>\n",
       "    </tr>\n",
       "    <tr>\n",
       "      <th>2012-12-31 01:00:00</th>\n",
       "      <td>13.2</td>\n",
       "      <td>13.2</td>\n",
       "      <td>13.18</td>\n",
       "      <td>13.18</td>\n",
       "      <td>2.28</td>\n",
       "      <td>30.05</td>\n",
       "      <td>13.18</td>\n",
       "    </tr>\n",
       "    <tr>\n",
       "      <th>2012-12-31 01:30:00</th>\n",
       "      <td>13.2</td>\n",
       "      <td>13.2</td>\n",
       "      <td>13.20</td>\n",
       "      <td>13.20</td>\n",
       "      <td>23.00</td>\n",
       "      <td>303.60</td>\n",
       "      <td>13.20</td>\n",
       "    </tr>\n",
       "    <tr>\n",
       "      <th>2012-12-31 02:00:00</th>\n",
       "      <td>13.2</td>\n",
       "      <td>13.2</td>\n",
       "      <td>13.20</td>\n",
       "      <td>13.20</td>\n",
       "      <td>23.00</td>\n",
       "      <td>303.60</td>\n",
       "      <td>13.20</td>\n",
       "    </tr>\n",
       "  </tbody>\n",
       "</table>\n",
       "</div>"
      ],
      "text/plain": [
       "                     Open  High    Low  Close  Volume (BTC)  \\\n",
       "Timestamp                                                     \n",
       "2012-12-31 00:00:00  13.2  13.2  13.20  13.20          0.23   \n",
       "2012-12-31 00:30:00  13.2  13.2  13.20  13.20          0.23   \n",
       "2012-12-31 01:00:00  13.2  13.2  13.18  13.18          2.28   \n",
       "2012-12-31 01:30:00  13.2  13.2  13.20  13.20         23.00   \n",
       "2012-12-31 02:00:00  13.2  13.2  13.20  13.20         23.00   \n",
       "\n",
       "                     Volume (Currency)  Weighted Price  \n",
       "Timestamp                                               \n",
       "2012-12-31 00:00:00               3.04           13.20  \n",
       "2012-12-31 00:30:00               3.04           13.20  \n",
       "2012-12-31 01:00:00              30.05           13.18  \n",
       "2012-12-31 01:30:00             303.60           13.20  \n",
       "2012-12-31 02:00:00             303.60           13.20  "
      ]
     },
     "execution_count": 49,
     "metadata": {},
     "output_type": "execute_result"
    }
   ],
   "source": [
    "df = pd.read_csv('./data/bitcoin.csv', sep = '\\t')\n",
    "df.Timestamp = pd.to_datetime(df.Timestamp) # convert timestamp to datetime format\n",
    "df.replace(to_replace='—', value = '', inplace=True) # replace - values with blanks\n",
    "df.set_index(df.Timestamp,drop=True,inplace=True) # set timestamp as index\n",
    "df.drop(labels = 'Timestamp', axis = 1, inplace=True) # drop timestamp column\n",
    "\n",
    "# convert data to numeric\n",
    "df[['Open','High','Low','Volume (BTC)','Volume (Currency)','Weighted Price','Close']] = df[['Open','High','Low','Volume (BTC)','Volume (Currency)','Weighted Price','Close']].apply(pd.to_numeric)\n",
    "\n",
    "df.fillna(method='ffill',inplace=True) # forward fill na values\n",
    "df.head()"
   ]
  },
  {
   "cell_type": "code",
   "execution_count": 50,
   "metadata": {},
   "outputs": [
    {
     "data": {
      "text/plain": [
       "Text(0.5,1,'Bitcoin Prices')"
      ]
     },
     "execution_count": 50,
     "metadata": {},
     "output_type": "execute_result"
    },
    {
     "data": {
      "image/png": "[encoded data removed]",
      "text/plain": [
       "<Figure size 1080x360 with 1 Axes>"
      ]
     },
     "metadata": {},
     "output_type": "display_data"
    }
   ],
   "source": [
    "# ectracting the data as required, additional 125 periods are added in begining to account for moving average\n",
    "df2 = df.ix[datetime.date(year=2018,month=4,day=23):datetime.date(year=2018,month=5,day=31)].copy()\n",
    "\n",
    "# resample the dataframe to a 60min frequency\n",
    "dfh  = pd.DataFrame()\n",
    "dfh['open'] = df2.Open.resample('60Min', base = 30,loffset='30min').last()\n",
    "dfh['high'] = df2.High.resample('60Min', base = 30, loffset='30min').last()\n",
    "dfh['low'] = df2.Low.resample('60Min', base = 30, loffset='30min').last()\n",
    "dfh['close'] = df2.Close.resample('60Min', base = 30, loffset='30min').last()\n",
    "dfh['volume_btc'] = df2['Volume (BTC)'].resample('60Min', base = 30, loffset='30min').last()\n",
    "dfh['volume_currency'] = df2['Volume (Currency)'].resample('60Min', base = 30, loffset='30min').last()\n",
    "dfh['wtd_price'] = df2['Weighted Price'].resample('60Min', base = 30, loffset='30min').last()\n",
    "\n",
    "# plot the bitcoin close price time series\n",
    "plt.figure(figsize=(15,5))\n",
    "plt.plot(dfh.index, dfh.close)\n",
    "plt.xlabel('Date')\n",
    "plt.ylabel('Price')\n",
    "plt.title('Bitcoin Prices')"
   ]
  },
  {
   "cell_type": "markdown",
   "metadata": {},
   "source": [
    "## Momentum indicator"
   ]
  },
  {
   "cell_type": "code",
   "execution_count": 51,
   "metadata": {},
   "outputs": [],
   "source": [
    "dfh['90dema'] = pd.Series.ewm(dfh['close'], span=90, min_periods=90).mean() # calculate 90d EMA\n",
    "dfh['30dema'] = pd.Series.ewm(dfh['close'], span=30, min_periods=30).mean() # calculare 30d EMA\n",
    "dfh['mom'] = (dfh['90dema'] - dfh['30dema'])/dfh['90dema'] # calculate momentum indicator\n",
    "\n",
    "# 45 day rolling mean and stdev for indicator\n",
    "dfh['mom45mean'] = dfh['mom'].rolling(45, min_periods=45).mean()\n",
    "dfh['mom45sigma'] = dfh['mom'].rolling(45, min_periods=45).std()\n",
    "# deviation of current value from mean in terms of std dev\n",
    "dfh['momfinal'] = abs(dfh['mom45mean'] - dfh['mom'])/dfh['mom45sigma']\n",
    "\n",
    "dfh.drop(labels = ['90dema','30dema','mom','mom45mean','mom45sigma'], inplace=True, axis=1)"
   ]
  },
  {
   "cell_type": "markdown",
   "metadata": {},
   "source": [
    "## Price / MA125 indicator"
   ]
  },
  {
   "cell_type": "code",
   "execution_count": 52,
   "metadata": {},
   "outputs": [],
   "source": [
    "dfh['ma125'] = dfh['close'].rolling(125, min_periods=125).mean()\n",
    "dfh['pricema'] = dfh['close'] / dfh['ma125']\n",
    "\n",
    "dfh['pricemamean'] = dfh['pricema'].rolling(45,min_periods=45).mean()\n",
    "dfh['pricemasigma'] = dfh['pricema'].rolling(45,min_periods=45).std()\n",
    "dfh['pricemafinal'] = abs(dfh['pricemamean'] - dfh['pricema'])/dfh['pricemasigma']\n",
    "\n",
    "dfh.drop(labels = ['ma125','pricema','pricemamean','pricemasigma'], inplace=True, axis=1)"
   ]
  },
  {
   "cell_type": "markdown",
   "metadata": {},
   "source": [
    "## Implied volatility - VIX using GARCH(1,1)"
   ]
  },
  {
   "cell_type": "code",
   "execution_count": 53,
   "metadata": {},
   "outputs": [],
   "source": [
    "dfh['pct'] = dfh['close'].pct_change() # calculate percentage return\n",
    "\n",
    "def ar_forecast(returns):\n",
    "    am = arch_model(returns*100, vol='Garch', p=1, o=0, q=1, dist='Normal') #initialize GARCH(1,1) model\n",
    "    res = am.fit(update_freq=0,disp='off') # fit GARCH(1,1) model\n",
    "    forecasts = res.forecast(horizon=12) # make forecast for next 24 periods\n",
    "    return np.sqrt(forecasts.variance.iloc[-1,:].values.mean())*100 # calculate VIX using above stated formula\n",
    "\n",
    "# apply on a rolling period\n",
    "dfh['vix'] = dfh['pct'].rolling(window = 12, min_periods = 12).apply(ar_forecast)\n",
    "\n",
    "dfh['vixmean'] = dfh['vix'].rolling(45,min_periods=45).mean()\n",
    "dfh['vixsigma'] = dfh['vix'].rolling(45,min_periods=45).std()\n",
    "dfh['vixfinal'] = abs(dfh['vixmean'] - dfh['vix'])/dfh['vixsigma']\n",
    "\n",
    "dfh.drop(labels = ['pct','vix','vixmean','vixsigma'], inplace=True, axis=1)"
   ]
  },
  {
   "cell_type": "markdown",
   "metadata": {},
   "source": [
    "## News sentiment analysis\n",
    "\n",
    "In this project I have used two data sources for aggregating news with the keyword 'bitcoin' in its title. The data from 9 May 2018 to 8 May 2018 is aggregated using webhoseio api, but due to its limitation of not providing data for more that past 30 days in free version I had to aggregate news from 1 May 2018 to 7 May 2018 from newsapi.\n",
    "\n",
    "In this section I extract the meaningful data and process it through vaderSentiment api for gauging the sentiment of the article. Later I aggregate the data on 60min interval and append to the original dataframe for further building of index."
   ]
  },
  {
   "cell_type": "code",
   "execution_count": 10,
   "metadata": {},
   "outputs": [],
   "source": [
    "# get list of all files in the news data folder\n",
    "files = glob.glob(\"/home/cchopade/crypto_hackathon/data/news/*.txt\")\n",
    "\n",
    "# initialize vaderSentiment object\n",
    "analyzer = SentimentIntensityAnalyzer()\n",
    "\n",
    "# create empty dataframe to store data\n",
    "news_data = pd.DataFrame(columns = ['published','title','text','neg','neu','pos','compound'])\n",
    "\n",
    "# loop through each file, parse text, perform sentiment analysis and store to dataframe\n",
    "for file in files:\n",
    "    with open(file) as json_file:  \n",
    "        data = json.load(json_file)\n",
    "\n",
    "\n",
    "    # create a blank dictionary to convert the data in a pandas dataframe\n",
    "    news_dict = { \"published\":[],\n",
    "                    \"title\":[],\n",
    "                    \"text\":[], \"neg\":[],\n",
    "                    \"neu\": [],\n",
    "                    \"pos\": [],\n",
    "                    \"compound\":[]}\n",
    "\n",
    "    for news in data['posts']:\n",
    "        news_dict[\"published\"].append(news['published'])\n",
    "        news_dict[\"title\"].append(news['title'])\n",
    "        news_dict[\"text\"].append(news['text'])\n",
    "        vs = analyzer.polarity_scores(news['text'])\n",
    "        news_dict[\"neg\"].append(vs['neg'])\n",
    "        news_dict[\"neu\"].append(vs['neu'])\n",
    "        news_dict[\"pos\"].append(vs['pos'])\n",
    "        news_dict[\"compound\"].append(vs['compound'])\n",
    "\n",
    "    \n",
    "    news_data = news_data.append(pd.DataFrame(news_dict),ignore_index=True)\n",
    "\n",
    "news_data.to_csv('data/news_analysis.csv') # save processed data to csv for future use"
   ]
  },
  {
   "cell_type": "code",
   "execution_count": 42,
   "metadata": {},
   "outputs": [],
   "source": [
    "# get list of all files in the news data folder\n",
    "files = glob.glob(\"/home/cchopade/crypto_hackathon/data/google_news/*.txt\")\n",
    "\n",
    "# initialize vaderSentiment object\n",
    "analyzer = SentimentIntensityAnalyzer()\n",
    "\n",
    "# create empty dataframe to store data\n",
    "news_data = pd.DataFrame(columns = ['published','title','text','neg','neu','pos','compound'])\n",
    "\n",
    "# loop through each file, parse text, perform sentiment analysis and store to dataframe\n",
    "for file in files:\n",
    "    with open(file) as json_file:  \n",
    "        data = json.load(json_file)\n",
    "\n",
    "\n",
    "# create a blank dictionary to convert the data in a pandas dataframe\n",
    "news_dict = { \"published\":[],\n",
    "                    \"title\":[],\n",
    "                    \"text\":[], \"neg\":[],\n",
    "                    \"neu\": [],\n",
    "                    \"pos\": [],\n",
    "                    \"compound\":[]}\n",
    "\n",
    "    for news in data['articles']:\n",
    "        news_dict[\"published\"].append(news['publishedAt'])\n",
    "        news_dict[\"title\"].append(news['title'])\n",
    "        news_dict[\"text\"].append(news['description'])\n",
    "        if news['description'] == None:\n",
    "            vs = analyzer.polarity_scores(news['title'])\n",
    "        else:\n",
    "            vs = analyzer.polarity_scores(news['description'])\n",
    "        news_dict[\"neg\"].append(vs['neg'])\n",
    "        news_dict[\"neu\"].append(vs['neu'])\n",
    "        news_dict[\"pos\"].append(vs['pos'])\n",
    "        news_dict[\"compound\"].append(vs['compound'])\n",
    "\n",
    "    \n",
    "    news_data = news_data.append(pd.DataFrame(news_dict),ignore_index=True)\n",
    "\n",
    "news_data.to_csv('data/google_news_analysis.csv') # save processed data to csv for future use"
   ]
  },
  {
   "cell_type": "code",
   "execution_count": 54,
   "metadata": {},
   "outputs": [
    {
     "data": {
      "text/plain": [
       "Index(['compound', 'neg', 'neu', 'pos', 'text', 'title'], dtype='object')"
      ]
     },
     "execution_count": 54,
     "metadata": {},
     "output_type": "execute_result"
    }
   ],
   "source": [
    "# collating news data from newsapi and webhose api and basic cleaning and sorting\n",
    "\n",
    "dfn = pd.read_csv('data/news_analysis.csv')\n",
    "dfn1 = pd.read_csv('data/google_news_analysis.csv')\n",
    "dfn = dfn.append(dfn1, ignore_index=True)\n",
    "dfn['published'] = pd.to_datetime(dfn['published'])\n",
    "dfn.set_index(dfn.published,drop=True, inplace = True)\n",
    "dfn.drop(labels = ['Unnamed: 0','compund','published'], inplace=True, axis = 1)\n",
    "dfn.sort_index(inplace = True)\n",
    "dfn.columns"
   ]
  },
  {
   "cell_type": "code",
   "execution_count": 55,
   "metadata": {
    "scrolled": true
   },
   "outputs": [],
   "source": [
    "# resampling data to match the market sentiment indicator timestamps\n",
    "dfnh  = pd.DataFrame()\n",
    "dfnh['compound'] = dfn['compound'].resample('60Min').mean()\n",
    "dfnh['neg'] = dfn['neg'].resample('60Min').mean()\n",
    "dfnh['neu'] = dfn['neu'].resample('60Min').mean()\n",
    "dfnh['pos'] = dfn['pos'].resample('60Min').mean()\n",
    "\n",
    "# min max normalization to convert scores from -1 to 1, to between 0 and 1\n",
    "dfnh['compound'] = (dfnh['compound'] - dfnh['compound'].min())/(dfnh['compound'].max() - dfnh['compound'].min()) \n",
    "\n",
    "#concat the compound column to the original dataframe\n",
    "dfh = pd.concat([dfh, dfnh['compound']], axis = 1)"
   ]
  },
  {
   "cell_type": "markdown",
   "metadata": {},
   "source": [
    "## Google Search trend analysis"
   ]
  },
  {
   "cell_type": "code",
   "execution_count": 107,
   "metadata": {},
   "outputs": [],
   "source": [
    "dfg = pd.read_csv('data/google.csv')\n",
    "dfg.date = pd.to_datetime(dfg.date)\n",
    "dfg.set_index(dfg.date, inplace = True)\n",
    "dfg.drop(labels=['date','isPartial'], axis = 1, inplace=True)\n",
    "dfg['googlemean'] = dfg['bitcoin'].rolling(45,min_periods=45).mean()\n",
    "dfg['googlesigma'] = dfg['bitcoin'].rolling(45,min_periods=45).std()\n",
    "dfg['googlefinal'] = abs(dfg['googlemean'] - dfg['bitcoin'])/dfg['googlesigma']\n",
    "dfg.drop(labels = ['bitcoin','googlemean','googlesigma'], inplace = True,axis=1)\n",
    "dfg = dfg.ix[datetime.date(year=2018,month=5,day=1):datetime.date(year=2018,month=5,day=31)]"
   ]
  },
  {
   "cell_type": "markdown",
   "metadata": {},
   "source": [
    "# Constructing the index"
   ]
  },
  {
   "cell_type": "code",
   "execution_count": 160,
   "metadata": {},
   "outputs": [],
   "source": [
    "# subset the dataset for required period\n",
    "gfi = dfh.ix[datetime.date(year=2018,month=5,day=1):datetime.date(year=2018,month=5,day=27)]\n",
    "gfi = gfi[['momfinal','pricemafinal','vixfinal','compound']] # drop columns that are not required\n",
    "gfi = pd.merge(gfi,dfg,left_index=True, right_index=True) # merge the google search data\n",
    "\n",
    "# parameter for min max normalization\n",
    "max = gfi.max(axis=1)\n",
    "min = gfi.min(axis=1)\n",
    "denom = max - min\n",
    "\n",
    "# nomralize the values for each day\n",
    "gfi['momfinal'] = (gfi['momfinal'] - min)/denom\n",
    "gfi['pricemafinal'] = (gfi['pricemafinal'] - min)/denom\n",
    "gfi['vixfinal'] = (gfi['vixfinal'] - min)/denom\n",
    "gfi['compound'] = (gfi['compound'] - min)/denom\n",
    "gfi['googlefinal'] = (gfi['googlefinal'] - min)/denom\n",
    "\n",
    "# calculate greed and fear index\n",
    "gfi['gfi'] = gfi.mean(axis = 1)*100"
   ]
  },
  {
   "cell_type": "markdown",
   "metadata": {},
   "source": [
    "# Backtesting"
   ]
  },
  {
   "cell_type": "code",
   "execution_count": 164,
   "metadata": {},
   "outputs": [],
   "source": [
    "gfi['buy'] = [x for x in gfi['gfi'] < 30 ]\n",
    "gfi['sell'] = [x for x in gfi['gfi'] > 60]"
   ]
  },
  {
   "cell_type": "code",
   "execution_count": 169,
   "metadata": {},
   "outputs": [],
   "source": [
    "buy_dates = gfi.index[gfi['buy'] == True]\n",
    "sell_dates = gfi.index[gfi['sell'] == True]"
   ]
  },
  {
   "cell_type": "code",
   "execution_count": 180,
   "metadata": {},
   "outputs": [],
   "source": [
    "dfh.to_csv('data/processed_data.csv')"
   ]
  }
 ],
 "metadata": {
  "kernelspec": {
   "display_name": "Python 3",
   "language": "python",
   "name": "python3"
  },
  "language_info": {
   "codemirror_mode": {
    "name": "ipython",
    "version": 3
   },
   "file_extension": ".py",
   "mimetype": "text/x-python",
   "name": "python",
   "nbconvert_exporter": "python",
   "pygments_lexer": "ipython3",
   "version": "3.6.5"
  }
 },
 "nbformat": 4,
 "nbformat_minor": 2
}
