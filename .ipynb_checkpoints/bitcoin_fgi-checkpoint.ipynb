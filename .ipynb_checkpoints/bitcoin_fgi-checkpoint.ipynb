{
 "cells": [
  {
   "cell_type": "markdown",
   "metadata": {},
   "source": [
    "## Bitcoin Fear & Greed Index\n",
    "***\n",
    "\n",
    "### Introduction\n",
    "***\n",
    "This is an attempt to create a sentiment index for Bitcoin. This sentiment index can be used for the purpose of trading into bitcoins and also as an indicator of overall mood. I have broadly divided the components of this index in two categories as follows.\n",
    "\n",
    "**Market Sentiment**\n",
    " - Momentum\n",
    " - Implied Volatility (VIX)\n",
    " - Price / MA\n",
    " - Simulated Price (using Geometric Brownian Motion)\n",
    " \n",
    "**Social Sentiment**\n",
    " - Google search trend\n",
    " - News\n",
    " - Reddit\n",
    "\n",
    "### Methoodology\n",
    "***\n",
    "- **Momentum**: Momentum is calculated as $\\frac{90dEMA - 30dEMA}{90dEMA}$\n",
    "\n",
    "\n",
    "- **Implied Volatility**: Volatility Index is calculated using forecasted volatility using GARCH(1,1) model. Forecast for next 24 periods of volatility is made and calculated as $$\\left ( \\frac{VIX_t}{100} \\right )^2 = \\frac{1}{n}\\sum_{k=1}^{n}E_{t}^{Q}\\left [ \\tilde{h}_{t+\\frac{\\tau_0 k}{n}} \\right ]$$\n",
    "\n",
    "  Refrence: Hao, J., & Zhang, J. E. (2013). GARCH option pricing models, the CBOE VIX, and variance risk premium. Journal of Financial Econometrics, 11(3), 556-580.\n",
    "\n",
    "\n",
    "- **Price / 125d MA**\n",
    "\n",
    "\n",
    "- **Google Search Trend**: Interest over time from google trends for the keyword 'bitcoin'\n",
    "\n",
    "\n",
    "- **News**: Sentiment analysis using vaderSentiment api of news articles with 'bitcoin' keyword in their title\n",
    "\n",
    "\n",
    "- **Reddit**: Top posts titles in subreddit r/bitcoin are captured and sentiment analysis using vaderSentiment is performed\n"
   ]
  }
 ],
 "metadata": {
  "kernelspec": {
   "display_name": "Python 3",
   "language": "python",
   "name": "python3"
  },
  "language_info": {
   "codemirror_mode": {
    "name": "ipython",
    "version": 3
   },
   "file_extension": ".py",
   "mimetype": "text/x-python",
   "name": "python",
   "nbconvert_exporter": "python",
   "pygments_lexer": "ipython3",
   "version": "3.6.5"
  }
 },
 "nbformat": 4,
 "nbformat_minor": 2
}
