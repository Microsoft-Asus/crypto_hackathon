{
 "cells": [
  {
   "cell_type": "markdown",
   "metadata": {},
   "source": [
    "## Bitcoin Fear & Greed Index\n",
    "***\n",
    "\n",
    "### Introduction\n",
    "***\n",
    "This is an attempt to create a sentiment index for Bitcoin. This sentiment index can be used for the purpose of trading into bitcoins and also as an indicator of overall mood. I have broadly divided the components of this index in two categories as follows.\n",
    "\n",
    "**Market Sentiment**\n",
    " - Momentum\n",
    " - Price / MA\n",
    " - Implied Volatility (VIX)\n",
    " - Simulated Price (using Geometric Brownian Motion)\n",
    " \n",
    "**Social Sentiment**\n",
    " - Google search trend\n",
    " - News articles\n",
    " - Reddit posts\n",
    "\n",
    "### Methodology\n",
    "***\n",
    "\n",
    "Data points that are used for creating this index are from 1 May 2018 to 31 May 2018. This project is only for PoC purpose. The limitation of the dataset is majorly due to non availability of historical social sentiment data with free api's. The methodology used to compute various factors is stated below. The construction methodology used to combine all the indicators is from Market Mood Index by Smallcase (http://mmi.smallcase.com/)\n",
    "\n",
    "- **Momentum**: Momentum is calculated as\n",
    "$$momentum = \\frac{90dEMA - 30dEMA}{90dEMA}$$\n",
    "\n",
    "\n",
    "- **Implied Volatility**: Volatility Index is calculated using forecasted volatility using GARCH(1,1) model. Forecast for next 24 periods of volatility is made and calculated as $$\\left ( \\frac{VIX_t}{100} \\right )^2 = \\frac{1}{n}\\sum_{k=1}^{n}E_{t}^{Q}\\left [ \\tilde{h}_{t+\\frac{\\tau_0 k}{n}} \\right ]$$\n",
    "\n",
    "  Refrence: Hao, J., & Zhang, J. E. (2013). GARCH option pricing models, the CBOE VIX, and variance risk premium. Journal of Financial Econometrics, 11(3), 556-580.\n",
    "\n",
    "\n",
    "- **Price / 125d MA**\n",
    "\n",
    "\n",
    "- **Google Search Trend**: Interest over time from google trends for the keyword 'bitcoin'\n",
    "\n",
    "\n",
    "- **News**: Sentiment analysis using vaderSentiment api of news articles with 'bitcoin' keyword in their title\n",
    "\n",
    "\n",
    "- **Reddit**: Top posts titles in subreddit r/bitcoin are captured and sentiment analysis using vaderSentiment is performed\n"
   ]
  },
  {
   "cell_type": "code",
   "execution_count": 93,
   "metadata": {},
   "outputs": [],
   "source": [
    "import numpy as np\n",
    "import pandas as pd\n",
    "import glob\n",
    "import json\n",
    "import datetime \n",
    "import matplotlib.pyplot as plt\n",
    "%matplotlib inline\n",
    "plt.style.use('fivethirtyeight')\n",
    "from vaderSentiment.vaderSentiment import SentimentIntensityAnalyzer\n",
    "from arch import arch_model\n",
    "\n",
    "import warnings\n",
    "warnings.filterwarnings(\"ignore\")"
   ]
  },
  {
   "cell_type": "markdown",
   "metadata": {},
   "source": [
    "## Data cleaning and resampling\n",
    "\n",
    " - Original bitcoin price data is of 30min frequency, but needs to be resampled to 60min frequency as the social sentiment data is only available at 60min frequency\n",
    " - Series is extracted for a period more than required so as to factor in for moving averages"
   ]
  },
  {
   "cell_type": "code",
   "execution_count": 102,
   "metadata": {},
   "outputs": [
    {
     "data": {
      "text/html": [
       "<div>\n",
       "<style scoped>\n",
       "    .dataframe tbody tr th:only-of-type {\n",
       "        vertical-align: middle;\n",
       "    }\n",
       "\n",
       "    .dataframe tbody tr th {\n",
       "        vertical-align: top;\n",
       "    }\n",
       "\n",
       "    .dataframe thead th {\n",
       "        text-align: right;\n",
       "    }\n",
       "</style>\n",
       "<table border=\"1\" class=\"dataframe\">\n",
       "  <thead>\n",
       "    <tr style=\"text-align: right;\">\n",
       "      <th></th>\n",
       "      <th>Open</th>\n",
       "      <th>High</th>\n",
       "      <th>Low</th>\n",
       "      <th>Close</th>\n",
       "      <th>Volume (BTC)</th>\n",
       "      <th>Volume (Currency)</th>\n",
       "      <th>Weighted Price</th>\n",
       "    </tr>\n",
       "    <tr>\n",
       "      <th>Timestamp</th>\n",
       "      <th></th>\n",
       "      <th></th>\n",
       "      <th></th>\n",
       "      <th></th>\n",
       "      <th></th>\n",
       "      <th></th>\n",
       "      <th></th>\n",
       "    </tr>\n",
       "  </thead>\n",
       "  <tbody>\n",
       "    <tr>\n",
       "      <th>2012-12-31 00:00:00</th>\n",
       "      <td>13.2</td>\n",
       "      <td>13.2</td>\n",
       "      <td>13.20</td>\n",
       "      <td>13.20</td>\n",
       "      <td>0.23</td>\n",
       "      <td>3.04</td>\n",
       "      <td>13.20</td>\n",
       "    </tr>\n",
       "    <tr>\n",
       "      <th>2012-12-31 00:30:00</th>\n",
       "      <td>13.2</td>\n",
       "      <td>13.2</td>\n",
       "      <td>13.20</td>\n",
       "      <td>13.20</td>\n",
       "      <td>0.23</td>\n",
       "      <td>3.04</td>\n",
       "      <td>13.20</td>\n",
       "    </tr>\n",
       "    <tr>\n",
       "      <th>2012-12-31 01:00:00</th>\n",
       "      <td>13.2</td>\n",
       "      <td>13.2</td>\n",
       "      <td>13.18</td>\n",
       "      <td>13.18</td>\n",
       "      <td>2.28</td>\n",
       "      <td>30.05</td>\n",
       "      <td>13.18</td>\n",
       "    </tr>\n",
       "    <tr>\n",
       "      <th>2012-12-31 01:30:00</th>\n",
       "      <td>13.2</td>\n",
       "      <td>13.2</td>\n",
       "      <td>13.20</td>\n",
       "      <td>13.20</td>\n",
       "      <td>23.00</td>\n",
       "      <td>303.60</td>\n",
       "      <td>13.20</td>\n",
       "    </tr>\n",
       "    <tr>\n",
       "      <th>2012-12-31 02:00:00</th>\n",
       "      <td>13.2</td>\n",
       "      <td>13.2</td>\n",
       "      <td>13.20</td>\n",
       "      <td>13.20</td>\n",
       "      <td>23.00</td>\n",
       "      <td>303.60</td>\n",
       "      <td>13.20</td>\n",
       "    </tr>\n",
       "  </tbody>\n",
       "</table>\n",
       "</div>"
      ],
      "text/plain": [
       "                     Open  High    Low  Close  Volume (BTC)  \\\n",
       "Timestamp                                                     \n",
       "2012-12-31 00:00:00  13.2  13.2  13.20  13.20          0.23   \n",
       "2012-12-31 00:30:00  13.2  13.2  13.20  13.20          0.23   \n",
       "2012-12-31 01:00:00  13.2  13.2  13.18  13.18          2.28   \n",
       "2012-12-31 01:30:00  13.2  13.2  13.20  13.20         23.00   \n",
       "2012-12-31 02:00:00  13.2  13.2  13.20  13.20         23.00   \n",
       "\n",
       "                     Volume (Currency)  Weighted Price  \n",
       "Timestamp                                               \n",
       "2012-12-31 00:00:00               3.04           13.20  \n",
       "2012-12-31 00:30:00               3.04           13.20  \n",
       "2012-12-31 01:00:00              30.05           13.18  \n",
       "2012-12-31 01:30:00             303.60           13.20  \n",
       "2012-12-31 02:00:00             303.60           13.20  "
      ]
     },
     "execution_count": 102,
     "metadata": {},
     "output_type": "execute_result"
    }
   ],
   "source": [
    "df = pd.read_csv('./data/bitcoin.csv', sep = '\\t')\n",
    "df.Timestamp = pd.to_datetime(df.Timestamp) # convert timestamp to datetime format\n",
    "df.replace(to_replace='—', value = '', inplace=True) # replace - values with blanks\n",
    "df.set_index(df.Timestamp,drop=True,inplace=True) # set timestamp as index\n",
    "df.drop(labels = 'Timestamp', axis = 1, inplace=True) # drop timestamp column\n",
    "\n",
    "# convert data to numeric\n",
    "df[['Open','High','Low','Volume (BTC)','Volume (Currency)','Weighted Price','Close']] = df[['Open','High','Low','Volume (BTC)','Volume (Currency)','Weighted Price','Close']].apply(pd.to_numeric)\n",
    "\n",
    "df.fillna(method='ffill',inplace=True) # forward fill na values\n",
    "df.head()"
   ]
  },
  {
   "cell_type": "code",
   "execution_count": 103,
   "metadata": {},
   "outputs": [
    {
     "data": {
      "text/plain": [
       "Text(0.5,1,'Bitcoin Prices')"
      ]
     },
     "execution_count": 103,
     "metadata": {},
     "output_type": "execute_result"
    },
    {
     "data": {
      "image/png": "[encoded data removed]",
      "text/plain": [
       "<Figure size 1080x360 with 1 Axes>"
      ]
     },
     "metadata": {},
     "output_type": "display_data"
    }
   ],
   "source": [
    "# ectracting the data as required, additional 125 periods are added in begining to account for moving average\n",
    "df2 = df.ix[datetime.date(year=2018,month=4,day=25):datetime.date(year=2018,month=5,day=31)].copy()\n",
    "\n",
    "# resample the dataframe to a 60min frequency\n",
    "dfh  = pd.DataFrame()\n",
    "dfh['open'] = df2.Open.resample('60Min', base = 30).last()\n",
    "dfh['high'] = df2.High.resample('60Min', base = 30).last()\n",
    "dfh['low'] = df2.Low.resample('60Min', base = 30).last()\n",
    "dfh['close'] = df2.Close.resample('60Min', base = 30).last()\n",
    "dfh['volume_btc'] = df2['Volume (BTC)'].resample('60Min', base = 30).last()\n",
    "dfh['volume_currency'] = df2['Volume (Currency)'].resample('60Min', base = 30).last()\n",
    "dfh['wtd_price'] = df2['Weighted Price'].resample('60Min', base = 30).last()\n",
    "\n",
    "# plot the bitcoin close price time series\n",
    "plt.figure(figsize=(15,5))\n",
    "plt.plot(dfh.index, dfh.close)\n",
    "plt.xlabel('Date')\n",
    "plt.ylabel('Price')\n",
    "plt.title('Bitcoin Prices')"
   ]
  },
  {
   "cell_type": "markdown",
   "metadata": {},
   "source": [
    "## Momentum indicator"
   ]
  },
  {
   "cell_type": "code",
   "execution_count": 104,
   "metadata": {},
   "outputs": [],
   "source": [
    "dfh['90dema'] = pd.Series.ewm(dfh['close'], span=90, min_periods=90).mean() # calculate 90d EMA\n",
    "dfh['30dema'] = pd.Series.ewm(dfh['close'], span=30, min_periods=30).mean() # calculare 30d EMA\n",
    "dfh['mom'] = (dfh['90dema'] - dfh['30dema'])/dfh['90dema'] # calculate momentum indicator\n",
    "\n",
    "# 45 day rolling mean and stdev for indicator\n",
    "dfh['mom45mean'] = dfh['mom'].rolling(45, min_periods=45).mean()\n",
    "dfh['mom45sigma'] = dfh['mom'].rolling(45, min_periods=45).std()\n",
    "# deviation of current value from mean in terms of std dev\n",
    "dfh['momfinal'] = abs(dfh['mom45mean'] - dfh['mom'])/dfh['mom45sigma']\n",
    "\n",
    "dfh.drop(labels = ['90dema','30dema','mom','mom45mean','mom45sigma'], inplace=True, axis=1)"
   ]
  },
  {
   "cell_type": "markdown",
   "metadata": {},
   "source": [
    "## Price / MA125 indicator"
   ]
  },
  {
   "cell_type": "code",
   "execution_count": 105,
   "metadata": {},
   "outputs": [],
   "source": [
    "dfh['ma125'] = dfh['close'].rolling(125, min_periods=125).mean()\n",
    "dfh['pricema'] = dfh['close'] / dfh['ma125']\n",
    "\n",
    "dfh['pricemamean'] = dfh['pricema'].rolling(45,min_periods=45).mean()\n",
    "dfh['pricemasigma'] = dfh['pricema'].rolling(45,min_periods=45).std()\n",
    "dfh['pricemafinal'] = abs(dfh['pricemamean'] - dfh['pricema'])/dfh['pricemasigma']\n",
    "\n",
    "dfh.drop(labels = ['ma125','pricema','pricemamean','pricemasigma'], inplace=True, axis=1)"
   ]
  },
  {
   "cell_type": "markdown",
   "metadata": {},
   "source": [
    "## Implied volatility - VIX using GARCH(1,1)"
   ]
  },
  {
   "cell_type": "code",
   "execution_count": 119,
   "metadata": {},
   "outputs": [],
   "source": [
    "dfh['pct'] = dfh['close'].pct_change() # calculate percentage return\n",
    "\n",
    "def ar_forecast(returns):\n",
    "    am = arch_model(returns*100, vol='Garch', p=1, o=0, q=1, dist='Normal') #initialize GARCH(1,1) model\n",
    "    res = am.fit(update_freq=0,disp='off') # fit GARCH(1,1) model\n",
    "    forecasts = res.forecast(horizon=12) # make forecast for next 24 periods\n",
    "    return np.sqrt(forecasts.variance.iloc[-1,:].values.mean())*100 # calculate VIX using above stated formula\n",
    "\n",
    "# apply on a rolling period\n",
    "dfh['vix'] = dfh['pct'].rolling(window = 12, min_periods = 12).apply(ar_forecast)\n",
    "\n",
    "dfh['vixmean'] = dfh['vix'].rolling(45,min_periods=45).mean()\n",
    "dfh['vixsigma'] = dfh['vix'].rolling(45,min_periods=45).std()\n",
    "dfh['vixfinal'] = abs(dfh['vixmean'] - dfh['vix'])/dfh['vixsigma']\n",
    "\n",
    "dfh.drop(labels = ['pct','vix','vixmean','vixsigma'], inplace=True, axis=1)"
   ]
  },
  {
   "cell_type": "markdown",
   "metadata": {},
   "source": [
    "## News sentiment analysis"
   ]
  },
  {
   "cell_type": "code",
   "execution_count": 52,
   "metadata": {},
   "outputs": [
    {
     "name": "stderr",
     "output_type": "stream",
     "text": [
      "/home/cchopade/anaconda3/lib/python3.6/site-packages/pandas/core/frame.py:6201: FutureWarning: Sorting because non-concatenation axis is not aligned. A future version\n",
      "of pandas will change to not sort by default.\n",
      "\n",
      "To accept the future behavior, pass 'sort=True'.\n",
      "\n",
      "To retain the current behavior and silence the warning, pass sort=False\n",
      "\n",
      "  sort=sort)\n"
     ]
    }
   ],
   "source": [
    "# get list of all files in the news data folder\n",
    "files = glob.glob(\"/home/cchopade/crypto_hackathon/data/news/*.txt\")\n",
    "\n",
    "# initialize vaderSentiment object\n",
    "analyzer = SentimentIntensityAnalyzer()\n",
    "\n",
    "# create empty dataframe to store data\n",
    "news_data = pd.DataFrame(columns = ['published','title','text','neg','neu','pos','compound'])\n",
    "\n",
    "# loop through each file, parse text, perform sentiment analysis and store to dataframe\n",
    "for file in files:\n",
    "    with open(file) as json_file:  \n",
    "        data = json.load(json_file)\n",
    "\n",
    "\n",
    "    # create a blank dictionary to convert the data in a pandas dataframe\n",
    "    news_dict = { \"published\":[],\n",
    "                    \"title\":[],\n",
    "                    \"text\":[], \"neg\":[],\n",
    "                    \"neu\": [],\n",
    "                    \"pos\": [],\n",
    "                    \"compound\":[]}\n",
    "\n",
    "    for news in data['posts']:\n",
    "        news_dict[\"published\"].append(news['published'])\n",
    "        news_dict[\"title\"].append(news['title'])\n",
    "        news_dict[\"text\"].append(news['text'])\n",
    "        vs = analyzer.polarity_scores(news['text'])\n",
    "        news_dict[\"neg\"].append(vs['neg'])\n",
    "        news_dict[\"neu\"].append(vs['neu'])\n",
    "        news_dict[\"pos\"].append(vs['pos'])\n",
    "        news_dict[\"compound\"].append(vs['compound'])\n",
    "\n",
    "    \n",
    "    news_data = news_data.append(pd.DataFrame(news_dict),ignore_index=True)\n",
    "\n",
    "news_data.to_csv('data/news_analysis.csv') # save processed data to csv for future use"
   ]
  },
  {
   "cell_type": "code",
   "execution_count": 42,
   "metadata": {},
   "outputs": [],
   "source": [
    "# get list of all files in the news data folder\n",
    "files = glob.glob(\"/home/cchopade/crypto_hackathon/data/google_news/*.txt\")\n",
    "\n",
    "# initialize vaderSentiment object\n",
    "analyzer = SentimentIntensityAnalyzer()\n",
    "\n",
    "# create empty dataframe to store data\n",
    "news_data = pd.DataFrame(columns = ['published','title','text','neg','neu','pos','compound'])\n",
    "\n",
    "# loop through each file, parse text, perform sentiment analysis and store to dataframe\n",
    "for file in files:\n",
    "    with open(file) as json_file:  \n",
    "        data = json.load(json_file)\n",
    "\n",
    "\n",
    "# create a blank dictionary to convert the data in a pandas dataframe\n",
    "news_dict = { \"published\":[],\n",
    "                    \"title\":[],\n",
    "                    \"text\":[], \"neg\":[],\n",
    "                    \"neu\": [],\n",
    "                    \"pos\": [],\n",
    "                    \"compound\":[]}\n",
    "\n",
    "    for news in data['articles']:\n",
    "        news_dict[\"published\"].append(news['publishedAt'])\n",
    "        news_dict[\"title\"].append(news['title'])\n",
    "        news_dict[\"text\"].append(news['description'])\n",
    "        if news['description'] == None:\n",
    "            vs = analyzer.polarity_scores(news['title'])\n",
    "        else:\n",
    "            vs = analyzer.polarity_scores(news['description'])\n",
    "        news_dict[\"neg\"].append(vs['neg'])\n",
    "        news_dict[\"neu\"].append(vs['neu'])\n",
    "        news_dict[\"pos\"].append(vs['pos'])\n",
    "        news_dict[\"compound\"].append(vs['compound'])\n",
    "\n",
    "    \n",
    "    news_data = news_data.append(pd.DataFrame(news_dict),ignore_index=True)\n",
    "\n",
    "news_data.to_csv('data/google_news_analysis.csv') # save processed data to csv for future use"
   ]
  },
  {
   "cell_type": "code",
   "execution_count": 153,
   "metadata": {},
   "outputs": [
    {
     "data": {
      "text/plain": [
       "Index(['compound', 'neg', 'neu', 'pos', 'text', 'title'], dtype='object')"
      ]
     },
     "execution_count": 153,
     "metadata": {},
     "output_type": "execute_result"
    }
   ],
   "source": [
    "dfn = pd.read_csv('data/news_analysis.csv')\n",
    "dfn1 = pd.read_csv('data/google_news_analysis.csv')\n",
    "dfn = dfn.append(dfn1, ignore_index=True)\n",
    "dfn['published'] = pd.to_datetime(dfn['published'])\n",
    "dfn.set_index(dfn.published,drop=True, inplace = True)\n",
    "dfn.drop(labels = ['Unnamed: 0','compund','published'], inplace=True, axis = 1)\n",
    "dfn.sort_index(inplace = True)\n",
    "dfn.columns"
   ]
  },
  {
   "cell_type": "code",
   "execution_count": 161,
   "metadata": {
    "scrolled": true
   },
   "outputs": [],
   "source": [
    "dfnh  = pd.DataFrame()\n",
    "dfnh['compound'] = dfn['compound'].resample('60Min',loffset='30Min').mean()\n",
    "dfnh['neg'] = dfn['neg'].resample('60Min',loffset='30Min').mean()\n",
    "dfnh['neu'] = dfn['neu'].resample('60Min',loffset='30Min').mean()\n",
    "dfnh['pos'] = dfn['pos'].resample('60Min',loffset='30Min').mean()"
   ]
  },
  {
   "cell_type": "code",
   "execution_count": 162,
   "metadata": {},
   "outputs": [
    {
     "data": {
      "text/html": [
       "<div>\n",
       "<style scoped>\n",
       "    .dataframe tbody tr th:only-of-type {\n",
       "        vertical-align: middle;\n",
       "    }\n",
       "\n",
       "    .dataframe tbody tr th {\n",
       "        vertical-align: top;\n",
       "    }\n",
       "\n",
       "    .dataframe thead th {\n",
       "        text-align: right;\n",
       "    }\n",
       "</style>\n",
       "<table border=\"1\" class=\"dataframe\">\n",
       "  <thead>\n",
       "    <tr style=\"text-align: right;\">\n",
       "      <th></th>\n",
       "      <th>compound</th>\n",
       "      <th>neg</th>\n",
       "      <th>neu</th>\n",
       "      <th>pos</th>\n",
       "    </tr>\n",
       "    <tr>\n",
       "      <th>published</th>\n",
       "      <th></th>\n",
       "      <th></th>\n",
       "      <th></th>\n",
       "      <th></th>\n",
       "    </tr>\n",
       "  </thead>\n",
       "  <tbody>\n",
       "    <tr>\n",
       "      <th>2018-05-01 00:30:00</th>\n",
       "      <td>0.093800</td>\n",
       "      <td>0.042250</td>\n",
       "      <td>0.889000</td>\n",
       "      <td>0.068750</td>\n",
       "    </tr>\n",
       "    <tr>\n",
       "      <th>2018-05-01 01:30:00</th>\n",
       "      <td>-0.117475</td>\n",
       "      <td>0.082000</td>\n",
       "      <td>0.823500</td>\n",
       "      <td>0.094500</td>\n",
       "    </tr>\n",
       "    <tr>\n",
       "      <th>2018-05-01 02:30:00</th>\n",
       "      <td>0.048820</td>\n",
       "      <td>0.081200</td>\n",
       "      <td>0.842600</td>\n",
       "      <td>0.076400</td>\n",
       "    </tr>\n",
       "    <tr>\n",
       "      <th>2018-05-01 03:30:00</th>\n",
       "      <td>0.029011</td>\n",
       "      <td>0.069667</td>\n",
       "      <td>0.855667</td>\n",
       "      <td>0.074556</td>\n",
       "    </tr>\n",
       "    <tr>\n",
       "      <th>2018-05-01 04:30:00</th>\n",
       "      <td>0.253323</td>\n",
       "      <td>0.045385</td>\n",
       "      <td>0.847000</td>\n",
       "      <td>0.107769</td>\n",
       "    </tr>\n",
       "  </tbody>\n",
       "</table>\n",
       "</div>"
      ],
      "text/plain": [
       "                     compound       neg       neu       pos\n",
       "published                                                  \n",
       "2018-05-01 00:30:00  0.093800  0.042250  0.889000  0.068750\n",
       "2018-05-01 01:30:00 -0.117475  0.082000  0.823500  0.094500\n",
       "2018-05-01 02:30:00  0.048820  0.081200  0.842600  0.076400\n",
       "2018-05-01 03:30:00  0.029011  0.069667  0.855667  0.074556\n",
       "2018-05-01 04:30:00  0.253323  0.045385  0.847000  0.107769"
      ]
     },
     "execution_count": 162,
     "metadata": {},
     "output_type": "execute_result"
    }
   ],
   "source": [
    "dfnh.head()"
   ]
  }
 ],
 "metadata": {
  "kernelspec": {
   "display_name": "Python 3",
   "language": "python",
   "name": "python3"
  },
  "language_info": {
   "codemirror_mode": {
    "name": "ipython",
    "version": 3
   },
   "file_extension": ".py",
   "mimetype": "text/x-python",
   "name": "python",
   "nbconvert_exporter": "python",
   "pygments_lexer": "ipython3",
   "version": "3.6.5"
  }
 },
 "nbformat": 4,
 "nbformat_minor": 2
}
